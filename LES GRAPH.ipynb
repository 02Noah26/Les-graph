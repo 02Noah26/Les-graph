{
 "cells": [
  {
   "cell_type": "markdown",
   "metadata": {},
   "source": [
    "# parcours en larguer"
   ]
  },
  {
   "cell_type": "code",
   "execution_count": null,
   "metadata": {},
   "outputs": [],
   "source": []
  },
  {
   "cell_type": "code",
   "execution_count": 5,
   "metadata": {},
   "outputs": [
    {
     "name": "stdout",
     "output_type": "stream",
     "text": [
      "parcour en largeur croissant\n",
      "1 2 4 5 3 6 7 8 "
     ]
    }
   ],
   "source": [
    "from collections import deque\n",
    "\n",
    "def lrg(graph, debut):\n",
    "    visited = set() \n",
    "    file = deque([debut]) # on me notre sommet au debut de la file \n",
    "    visited.add(debut) # et on l'ajoute dans la list des noeud visiter\n",
    "\n",
    "    while file : # tant que la file n'est pas vide\n",
    "        \n",
    "        # defiler le premier noeud et l'ajouter a notre parcour\n",
    "        noeud = file.popleft() \n",
    "        print(noeud, end=' ') \n",
    "        \n",
    "        #enfiler les voisins de le neoud traiter \n",
    "        for voisin in graph[noeud]: \n",
    "                if voisin not in visited: # si il n'est pas visiter on l'ajoute dans la file \n",
    "                    file.append(voisin)\n",
    "                    visited.add(voisin)\n",
    "\n",
    "    # Verifier si tous les neoud sont visiter \n",
    "    for noeud in graph:\n",
    "        if noeud not in visited:\n",
    "            print(noeud, end=' ')\n",
    "\n",
    "# Example usage\n",
    "graph = {\n",
    "    '1': ['2', '4', '5'],\n",
    "    '2': ['3', '4'],\n",
    "    '3': ['1'],\n",
    "    '4': ['3'],\n",
    "    '5': ['4'],\n",
    "    '6': ['8'],\n",
    "    '7': ['5'],\n",
    "    '8': ['6', '7']\n",
    "}\n",
    "graph2 = {\n",
    "    0 : [1],\n",
    "    1 : [4,5], \n",
    "    2 : [0, 3],\n",
    "    3 : [1, 7], \n",
    "    4 : [], \n",
    "    5 : [7], \n",
    "    6 : [3], \n",
    "    7 : [5,6,8],\n",
    "    8 : [5]   \n",
    "}\n",
    "graph3 = {\n",
    "    1 : [3], \n",
    "    2 : [4, 8, 9],\n",
    "    3 : [5, 6], \n",
    "    4 : [5, 8], \n",
    "    5 : [3, 8], \n",
    "    6 : [5, 4], \n",
    "    7 : [2, 3, 4, 6], \n",
    "    8 : [10], \n",
    "    9 : [7], \n",
    "    10 : [2, 9]\n",
    "    \n",
    "    \n",
    "    \n",
    "}\n",
    "# Call BFS starting from each unvisited node\n",
    "print(\"parcour en largeur croissant\")\n",
    "lrg(graph, '1')\n"
   ]
  },
  {
   "cell_type": "markdown",
   "metadata": {},
   "source": [
    "## Decroissant"
   ]
  },
  {
   "cell_type": "code",
   "execution_count": 15,
   "metadata": {},
   "outputs": [
    {
     "name": "stdout",
     "output_type": "stream",
     "text": [
      "Parcour en largeur :\n",
      "1 5 4 2 3 8 7 6 "
     ]
    }
   ],
   "source": [
    "from collections import deque\n",
    "\n",
    "def lrg_dec(graph, debut):\n",
    "    visited = set() \n",
    "    file = deque([debut]) # on me notre sommet au debut de la file \n",
    "    visited.add(debut) # et on l'ajoute dans la list des noeud visiter\n",
    "\n",
    "    while file : # tant que la file n'est pas vide\n",
    "        \n",
    "        # defiler le premier noeud et l'ajouter a notre parcour\n",
    "        noeud = file.popleft() \n",
    "        print(noeud, end=' ') \n",
    "        \n",
    "        #enfiler les voisins de le neoud traiter \n",
    "        for voisin in graph[noeud]: \n",
    "                if voisin not in visited: # si il n'est pas visiter on l'ajoute dans la file \n",
    "                    file.append(voisin)\n",
    "                    visited.add(voisin)\n",
    "\n",
    "    # Verifier si tous les neoud sont visiter \n",
    "    for noeud in graph:\n",
    "        if noeud not in visited:\n",
    "            print(noeud, end=' ')\n",
    "\n",
    "def rev(graph):\n",
    "    graph = dict(reversed(list(graph.items())))\n",
    "    for key in graph:\n",
    "        graph[key] = graph[key][::-1]\n",
    "    return graph\n",
    "\n",
    "\n",
    "# Example usage\n",
    "graph = {\n",
    "    '1': ['2', '4', '5'],\n",
    "    '2': ['3', '4'],\n",
    "    '3': ['1'],\n",
    "    '4': ['3'],\n",
    "    '5': ['4'],\n",
    "    '6': ['8'],\n",
    "    '7': ['5'],\n",
    "    '8': ['6', '7']\n",
    "}\n",
    "graph2 = {\n",
    "    0 : [1],\n",
    "    1 : [4,5], \n",
    "    2 : [0, 3],\n",
    "    3 : [1, 7], \n",
    "    4 : [], \n",
    "    5 : [7], \n",
    "    6 : [3], \n",
    "    7 : [5,6,8],\n",
    "    8 : [5]   \n",
    "    \n",
    "}\n",
    "graph3 = {\n",
    "    1 : [3], \n",
    "    2 : [4, 8, 9],\n",
    "    3 : [5, 6], \n",
    "    4 : [5, 8], \n",
    "    5 : [3, 8], \n",
    "    6 : [5, 4], \n",
    "    7 : [1, 2, 3, 4, 6], \n",
    "    8 : [10], \n",
    "    9 : [7], \n",
    "    10 : [2, 9]   \n",
    "}\n",
    "\n",
    "# Call BFS starting from each unvisited node\n",
    "print(\"Parcour en largeur :\")\n",
    "\n",
    "\n",
    "graph = rev(graph)\n",
    "lrg_dec(graph, '1')"
   ]
  },
  {
   "cell_type": "code",
   "execution_count": null,
   "metadata": {},
   "outputs": [],
   "source": []
  },
  {
   "cell_type": "code",
   "execution_count": null,
   "metadata": {},
   "outputs": [],
   "source": []
  },
  {
   "cell_type": "code",
   "execution_count": null,
   "metadata": {},
   "outputs": [],
   "source": []
  },
  {
   "cell_type": "code",
   "execution_count": null,
   "metadata": {},
   "outputs": [],
   "source": []
  },
  {
   "cell_type": "code",
   "execution_count": null,
   "metadata": {},
   "outputs": [],
   "source": []
  },
  {
   "cell_type": "markdown",
   "metadata": {},
   "source": [
    "## profondeur\n"
   ]
  },
  {
   "cell_type": "code",
   "execution_count": null,
   "metadata": {},
   "outputs": [],
   "source": []
  },
  {
   "cell_type": "code",
   "execution_count": 38,
   "metadata": {},
   "outputs": [
    {
     "name": "stdout",
     "output_type": "stream",
     "text": [
      "[4, 6, 7, 9, 2, 10, 8, 5, 3, 1]\n"
     ]
    }
   ],
   "source": []
  },
  {
   "cell_type": "markdown",
   "metadata": {},
   "source": [
    "## parcour en profendeur Croissant"
   ]
  },
  {
   "cell_type": "code",
   "execution_count": 2,
   "metadata": {},
   "outputs": [
    {
     "name": "stdout",
     "output_type": "stream",
     "text": [
      "Le parcour est : ['3', '4', '2', '5', '1', '7', '8', '6']\n"
     ]
    }
   ],
   "source": [
    "pile = []\n",
    "parcour = list()\n",
    "\n",
    "def pfr(graph, debut):\n",
    "    \n",
    "    # empiler le sommet\n",
    "    pile.append(debut) \n",
    "    \n",
    "    \n",
    "    #tester si le noeud n'est pas dans la pile ou si il n'a pas de successeur \n",
    "    for noeud in graph[debut]:\n",
    "        if ( noeud not in pile) or (len(graph[noeud])==0):\n",
    "            pfr(graph, noeud) # si oui on appel la fonction dont le debut est le neoud \n",
    "    \n",
    "    resultat = pile.pop() # depiler la dernier element \n",
    "    if resultat not in parcour: # tester si l'element existe dans le parcours\n",
    "        parcour.append(resultat) # on l'ajoute dans le parcour\n",
    "    \n",
    "    #tester si la pile est vide\n",
    "    if not pile :\n",
    "        for i in graph:\n",
    "            if i not in parcour : # verifier si tous les noeud est dans le parcours, si non on appel la fonction\n",
    "                pfr(graph, i)\n",
    "    return parcour\n",
    "\n",
    "\n",
    "graph = {\n",
    "    '1': ['2', '4', '5'],\n",
    "    '2': ['3', '4'],\n",
    "    '3': ['1'],\n",
    "    '4': [],\n",
    "    '5': ['4'],\n",
    "    '6': ['8'],\n",
    "    '7': ['5'],\n",
    "    '8': ['6', '7']\n",
    "}\n",
    "graph2 = {\n",
    "    0 : [1],\n",
    "    1 : [4,5], \n",
    "    2 : [0, 3],\n",
    "    3 : [1, 7], \n",
    "    4 : [], \n",
    "    5 : [7], \n",
    "    6 : [3], \n",
    "    7 : [5,6,8],\n",
    "    8 : [5]   \n",
    "    \n",
    "}\n",
    "graph3 = {\n",
    "    1 : [3], \n",
    "    2 : [4, 8, 9],\n",
    "    3 : [5, 6], \n",
    "    4 : [5, 8], \n",
    "    5 : [3, 8], \n",
    "    6 : [5, 4], \n",
    "    7 : [2, 3, 4, 6], \n",
    "    8 : [10], \n",
    "    9 : [7], \n",
    "    10 : [2, 9]\n",
    "    \n",
    "    \n",
    "    \n",
    "}\n",
    "print(\"Le parcour est :\", pfr(graph, \"1\"))\n"
   ]
  },
  {
   "cell_type": "code",
   "execution_count": null,
   "metadata": {},
   "outputs": [],
   "source": []
  },
  {
   "cell_type": "markdown",
   "metadata": {},
   "source": [
    "## Decroissant\n"
   ]
  },
  {
   "cell_type": "code",
   "execution_count": null,
   "metadata": {},
   "outputs": [],
   "source": []
  },
  {
   "cell_type": "code",
   "execution_count": 21,
   "metadata": {},
   "outputs": [
    {
     "name": "stdout",
     "output_type": "stream",
     "text": [
      "Le parcour est : ['3', '4', '5', '2', '1', '7', '6', '8']\n"
     ]
    }
   ],
   "source": [
    "pile = []\n",
    "parcour = list() \n",
    "\n",
    "def pfr_dec(graph, debut):\n",
    "    \n",
    "    # empiler le sommet\n",
    "    pile.append(debut) \n",
    "    \n",
    "    #tester si le noeud n'est pas dans la pile ou si il n'a pas de successeur \n",
    "    for noeud in graph[debut]:\n",
    "        if ( noeud not in pile) or (len(graph[noeud])==0):\n",
    "            pfr_dec(graph, noeud) # si oui on appel la fonction dont le debut est le neoud \n",
    "    \n",
    "    resultat = pile.pop() # depiler la dernier element \n",
    "    if resultat not in parcour: # tester si l'element existe dans le parcours\n",
    "        parcour.append(resultat) # on l'ajoute dans le parcour\n",
    "    \n",
    "    #tester si la pile est vide\n",
    "    if not pile :\n",
    "        for i in graph:\n",
    "            if i not in parcour : # verifier si tous les noeud est dans le parcours, si non on appel la fonction\n",
    "                pfr_dec(graph, i)\n",
    "    return parcour\n",
    "\n",
    "def rev(graph):\n",
    "    graph = dict(reversed(list(graph.items())))\n",
    "    for key in graph:\n",
    "        graph[key] = graph[key][::-1]\n",
    "    return graph\n",
    "        \n",
    "        \n",
    "#Le graph \n",
    "graph = {\n",
    "    \"1\": [\"2\", \"4\", \"5\"],\n",
    "    \"2\": [\"3\", \"4\"],\n",
    "    \"3\": [\"1\"],\n",
    "    \"4\": [\"3\"],\n",
    "    \"5\": [\"4\"],\n",
    "    \"6\": [\"7\",\"8\"],\n",
    "    \"7\": [\"5\"],\n",
    "    \"8\": [\"4\",\"6\", \"7\"]\n",
    "}\n",
    "graph2 = {\n",
    "    0 : [1],\n",
    "    1 : [4,5], \n",
    "    2 : [0, 3],\n",
    "    3 : [1, 7], \n",
    "    4 : [], \n",
    "    5 : [7], \n",
    "    6 : [3], \n",
    "    7 : [5,6,8],\n",
    "    8 : [5]   \n",
    "    \n",
    "}\n",
    "graph3 = {\n",
    "    1 : [3], \n",
    "    2 : [4, 8, 9],\n",
    "    3 : [5, 6], \n",
    "    4 : [5, 8], \n",
    "    5 : [3, 8], \n",
    "    6 : [5, 4], \n",
    "    7 : [2, 3, 4, 6], \n",
    "    8 : [10], \n",
    "    9 : [7], \n",
    "    10 : [2, 9]\n",
    "    \n",
    "    \n",
    "    \n",
    "}\n",
    "graph = rev(graph)\n",
    "print(\"Le parcour est :\", pfr_dec(graph, '1'))\n",
    "\n"
   ]
  },
  {
   "cell_type": "code",
   "execution_count": null,
   "metadata": {},
   "outputs": [],
   "source": []
  },
  {
   "cell_type": "code",
   "execution_count": null,
   "metadata": {},
   "outputs": [],
   "source": []
  },
  {
   "cell_type": "code",
   "execution_count": null,
   "metadata": {},
   "outputs": [],
   "source": []
  },
  {
   "cell_type": "code",
   "execution_count": null,
   "metadata": {},
   "outputs": [],
   "source": []
  },
  {
   "cell_type": "code",
   "execution_count": null,
   "metadata": {},
   "outputs": [],
   "source": []
  },
  {
   "cell_type": "code",
   "execution_count": null,
   "metadata": {},
   "outputs": [],
   "source": []
  },
  {
   "cell_type": "code",
   "execution_count": null,
   "metadata": {},
   "outputs": [],
   "source": []
  }
 ],
 "metadata": {
  "kernelspec": {
   "display_name": "Python 3",
   "language": "python",
   "name": "python3"
  },
  "language_info": {
   "codemirror_mode": {
    "name": "ipython",
    "version": 3
   },
   "file_extension": ".py",
   "mimetype": "text/x-python",
   "name": "python",
   "nbconvert_exporter": "python",
   "pygments_lexer": "ipython3",
   "version": "3.7.4"
  }
 },
 "nbformat": 4,
 "nbformat_minor": 2
}
